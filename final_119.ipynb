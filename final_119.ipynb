{
  "nbformat": 4,
  "nbformat_minor": 0,
  "metadata": {
    "colab": {
      "provenance": [],
      "include_colab_link": true
    },
    "kernelspec": {
      "name": "python3",
      "display_name": "Python 3"
    },
    "language_info": {
      "name": "python"
    }
  },
  "cells": [
    {
      "cell_type": "markdown",
      "metadata": {
        "id": "view-in-github",
        "colab_type": "text"
      },
      "source": [
        "<a href=\"https://colab.research.google.com/github/ekpiper1321/python_199_final/blob/main/final_119.ipynb\" target=\"_parent\"><img src=\"https://colab.research.google.com/assets/colab-badge.svg\" alt=\"Open In Colab\"/></a>"
      ]
    },
    {
      "cell_type": "code",
      "execution_count": null,
      "metadata": {
        "id": "MKaFz6Oz0zVt",
        "colab": {
          "base_uri": "https://localhost:8080/",
          "height": 367
        },
        "outputId": "1faa71f0-99fd-4671-d03d-6e09574bcd67"
      },
      "outputs": [
        {
          "output_type": "stream",
          "name": "stdout",
          "text": [
            "Requirement already satisfied: rasterio in /usr/local/lib/python3.11/dist-packages (1.4.3)\n",
            "Requirement already satisfied: affine in /usr/local/lib/python3.11/dist-packages (from rasterio) (2.4.0)\n",
            "Requirement already satisfied: attrs in /usr/local/lib/python3.11/dist-packages (from rasterio) (25.3.0)\n",
            "Requirement already satisfied: certifi in /usr/local/lib/python3.11/dist-packages (from rasterio) (2025.4.26)\n",
            "Requirement already satisfied: click>=4.0 in /usr/local/lib/python3.11/dist-packages (from rasterio) (8.2.0)\n",
            "Requirement already satisfied: cligj>=0.5 in /usr/local/lib/python3.11/dist-packages (from rasterio) (0.7.2)\n",
            "Requirement already satisfied: numpy>=1.24 in /usr/local/lib/python3.11/dist-packages (from rasterio) (2.0.2)\n",
            "Requirement already satisfied: click-plugins in /usr/local/lib/python3.11/dist-packages (from rasterio) (1.1.1)\n",
            "Requirement already satisfied: pyparsing in /usr/local/lib/python3.11/dist-packages (from rasterio) (3.2.3)\n"
          ]
        },
        {
          "output_type": "error",
          "ename": "FileNotFoundError",
          "evalue": "[Errno 2] No such file or directory: '/content/drive/MyDrive/python/ESCI_150_250_Master_Data_Sheet.xlsx'",
          "traceback": [
            "\u001b[0;31m---------------------------------------------------------------------------\u001b[0m",
            "\u001b[0;31mFileNotFoundError\u001b[0m                         Traceback (most recent call last)",
            "\u001b[0;32m<ipython-input-15-7ea4d294e3fc>\u001b[0m in \u001b[0;36m<cell line: 0>\u001b[0;34m()\u001b[0m\n\u001b[1;32m     24\u001b[0m \u001b[0;34m\u001b[0m\u001b[0m\n\u001b[1;32m     25\u001b[0m \u001b[0;31m# create a reference to the file\u001b[0m\u001b[0;34m\u001b[0m\u001b[0;34m\u001b[0m\u001b[0m\n\u001b[0;32m---> 26\u001b[0;31m \u001b[0mtarget_file\u001b[0m \u001b[0;34m=\u001b[0m \u001b[0mopen\u001b[0m\u001b[0;34m(\u001b[0m\u001b[0mfile_path\u001b[0m\u001b[0;34m,\u001b[0m \u001b[0;34m\"rb\"\u001b[0m\u001b[0;34m)\u001b[0m\u001b[0;34m\u001b[0m\u001b[0;34m\u001b[0m\u001b[0m\n\u001b[0m\u001b[1;32m     27\u001b[0m \u001b[0;34m\u001b[0m\u001b[0m\n\u001b[1;32m     28\u001b[0m \u001b[0;31m# send the request\u001b[0m\u001b[0;34m\u001b[0m\u001b[0;34m\u001b[0m\u001b[0m\n",
            "\u001b[0;31mFileNotFoundError\u001b[0m: [Errno 2] No such file or directory: '/content/drive/MyDrive/python/ESCI_150_250_Master_Data_Sheet.xlsx'"
          ]
        }
      ],
      "source": [
        "import numpy as np\n",
        "import matplotlib.pyplot as plt\n",
        "import pandas as pd\n",
        "from scipy import interpolate\n",
        "import datetime as dt\n",
        "# !pip install cartopy\n",
        "import cartopy.crs as ccrs\n",
        "import cartopy.feature as cfeature\n",
        "import xarray as xr\n",
        "!pip install rasterio\n",
        "import rasterio as rio\n",
        "\n",
        "# import csv\n",
        "# file_path='/content/drive/MyDrive/python/ESCI_150_250_Master_Data_Sheet.xlsx'/content/drive/MyDrive/python/ESCI_150_250_Master_Data_Sheet.xlsx\n",
        "\n",
        "url = 'https://github.com/ekpiper1321/python_199_final/blob/main/ESCI_150_250_Master_Data_Sheet.xlsx%20-%20Data.csv'\n",
        "import requests\n",
        "\n",
        "# define the relative path of the sample file\n",
        "file_path = '/content/drive/MyDrive/python/ESCI_150_250_Master_Data_Sheet.xlsx'\n",
        "\n",
        "# store the target API URL\n",
        "# target_url = \"https://httpbin.org/post\"\n",
        "\n",
        "# create a reference to the file\n",
        "target_file = open(file_path, \"rb\")\n",
        "\n",
        "# send the request\n",
        "response = requests.post(url, files = {\"form_field_name\": target_file})\n",
        "\n",
        "# check the result\n",
        "if response.ok:\n",
        "    print(\"Upload complete\")\n",
        "    print(response.text)\n",
        "else:\n",
        "    print(\"Something went wrong\")\n",
        "\n",
        "print(response.text)\n",
        "\n",
        "\n",
        "# df_raw=pd.read_csv(file_path, na_values=-999,parse_dates=['Field Date (DD/MM/YY)'], dayfirst=True)\n",
        "\n",
        "# '''individual columns'''\n",
        "# field_date_bz=df_raw.query('Site== \"Beach Zone\"')['Field Date (DD/MM/YY)']\n",
        "# depth_cm_bz=df_raw.query('Site== \"Beach Zone\"')['Depth (cm)']\n",
        "# # site_=df_raw.query('Site== \"Beach Zone\"')['Site']\n",
        "# temp_c_bz=df_raw.query('Site== \"Beach Zone\"')['Temperature (C)']\n",
        "# salinity_psu_bz=df_raw.query('Site== \"Beach Zone\"')['Salinity (parts per thousand)']\n",
        "# alkalinity_mM_bz=df_raw.query('Site== \"Beach Zone\"')['Alkalinity (mM)']\n",
        "# phytoplankton_bz=df_raw.query('Site== \"Beach Zone\"')['Mean Cell Count (Phytoplankton/mL)']\n",
        "# std_phytoplankton_bz=df_raw.query('Site== \"Beach Zone\"')['StDev. Cell Count (Phytoplankton/mL)']\n",
        "# diatoms_bz=df_raw.query('Site== \"Beach Zone\"')['Diatoms (Kudela Lab Abundance Code)']\n",
        "# dinoflagellates_bz=df_raw.query('Site== \"Beach Zone\"')['Dinoflagellates (Kudela Lab Abundance Code)']\n",
        "# cyanobacteria_bz=df_raw.query('Site== \"Beach Zone\"')['Cyanobacteria (Kudela Lab Abundance Code)']\n",
        "# zooplankton_bz=df_raw.query('Site== \"Beach Zone\"')['Zooplankton (Kudela Lab Abundance Code)']\n",
        "\n",
        "# '''individual columns'''\n",
        "# field_date_ef=df_raw.query('Site== \"East Fork\"')['Field Date (DD/MM/YY)']\n",
        "# depth_cm_ef=df_raw.query('Site== \"East Fork\"')['Depth (cm)']\n",
        "# # site_=df_raw.query('Site== \"Beach Zone\"')['Site']\n",
        "# temp_c_ef=df_raw.query('Site== \"East Fork\"')['Temperature (C)']\n",
        "# salinity_psu_ef=df_raw.query('Site== \"East Fork\"')['Salinity (parts per thousand)']\n",
        "# alkalinity_mM_ef=df_raw.query('Site== \"East Fork\"')['Alkalinity (mM)']\n",
        "# phytoplankton_ef=df_raw.query('Site== \"East Fork\"')['Mean Cell Count (Phytoplankton/mL)']\n",
        "# std_phytoplankton_ef=df_raw.query('Site== \"East Fork\"')['StDev. Cell Count (Phytoplankton/mL)']\n",
        "# diatoms_ef=df_raw.query('Site== \"East Fork\"')['Diatoms (Kudela Lab Abundance Code)']\n",
        "# dinoflagellates_ef=df_raw.query('Site== \"East Fork\"')['Dinoflagellates (Kudela Lab Abundance Code)']\n",
        "# cyanobacteria_ef=df_raw.query('Site== \"East Fork\"')['Cyanobacteria (Kudela Lab Abundance Code)']\n",
        "# zooplankton_ef=df_raw.query('Site== \"East Fork\"')['Zooplankton (Kudela Lab Abundance Code)']\n",
        "\n",
        "# # df_raw['Site'].unique()\n",
        "# beach_zone=df_raw.query('Site== \"Beach Zone\"')\n",
        "# east_fork=df_raw.query('Site== \"East Fork\"')\n",
        "# ''' seperate df for each site'''\n",
        "\n",
        "# # df_raw['Field Date (DD/MM/YY)'].unique()\n",
        "# df_raw['Field Date (DD/MM/YY)'].dropna()\n",
        "# ''' removing nan values from dates'''\n",
        "\n",
        "\n",
        "# '''mapping'''\n",
        "\n",
        "\n",
        "\n",
        "\n",
        "# fig, (ax1, ax2) =plt.subplot(2,1,1)\n",
        "# plt.gcf().autofmt_xdate()\n",
        "# ax1.plot(field_date_bz, temp_c_bz,'o', label='Temperature')\n",
        "# ax2.plot(field_date_ef, temp_c_ef,'o', label='Temperature')\n",
        "# ax1.set_ylabel('Temperature (C)')\n",
        "# fig.legend()\n",
        "\n",
        "\n",
        "\n",
        "# print(temp_c_bz)\n",
        "\n",
        "\n",
        "\n"
      ]
    }
  ]
}